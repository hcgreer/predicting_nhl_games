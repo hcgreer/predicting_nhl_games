{
 "cells": [
  {
   "cell_type": "code",
   "execution_count": 1,
   "metadata": {},
   "outputs": [],
   "source": [
    "import pandas as pd\n",
    "import requests\n",
    "import json\n",
    "import numpy as np\n",
    "import time"
   ]
  },
  {
   "cell_type": "code",
   "execution_count": 2,
   "metadata": {},
   "outputs": [],
   "source": [
    "# Creating list for years the NHL had a season since 2000 \n",
    "years = [2000 + x for x in range(0, 23)]\n",
    "years.remove(2004) # The NHL was in lockout and this season was not played"
   ]
  },
  {
   "cell_type": "code",
   "execution_count": 3,
   "metadata": {},
   "outputs": [
    {
     "name": "stdout",
     "output_type": "stream",
     "text": [
      "Wating for game 0659 of season 2005.\n",
      "Wating for game 0843 of season 2018.\n",
      "Wating for game 0843 of season 2018.\n"
     ]
    }
   ],
   "source": [
    "# Pulling data about the regular season from 2000-2023.\n",
    "df = []\n",
    "for year in years:\n",
    "    for game in range(1, 1313):\n",
    "        year = year\n",
    "        game = f\"{game:04d}\"\n",
    "\n",
    "        url = f'https://statsapi.web.nhl.com/api/v1/game/{year}02{game}/feed/live'\n",
    "\n",
    "        # Sometimes the connection will timeout. This is to avoid breaking the loop.\n",
    "        for i in range(1, 11):\n",
    "            try:\n",
    "                response = requests.get(url)\n",
    "                break\n",
    "            except:\n",
    "                print('Wating for game ' + str(game) + ' of season ' + str(year) + '.')\n",
    "                time.sleep(10)\n",
    "\n",
    "        # There are different number of games played over the seasons. The if statment allows me to break the loop when the max\n",
    "        # number of games have been played for that season.\n",
    "        if response.status_code == 200:\n",
    "\n",
    "            linescore = response.json()['liveData']['linescore']\n",
    "            home_team = linescore['teams']['home']\n",
    "            away_team = linescore['teams']['away']\n",
    "\n",
    "            # Appending information about the game and stats about the home and away teams to an empty list.    \n",
    "            df.append({\n",
    "                'gameID' : f'{year}02{game}',\n",
    "                'season' : year,\n",
    "                'date' : response.json()['gameData']['datetime']['dateTime'][0:10],\n",
    "                'current_period' : linescore['currentPeriod'],\n",
    "\n",
    "                'home' : home_team['team']['name'],\n",
    "                'away' : away_team['team']['name'],\n",
    "\n",
    "                'home_goals' : home_team['goals'],\n",
    "                'away_goals' : away_team['goals'],\n",
    "\n",
    "                'home_shots' : home_team['shotsOnGoal'],\n",
    "                'away_shots' : away_team['shotsOnGoal']\n",
    "                })\n",
    "        else:\n",
    "            break\n",
    "\n",
    "# Removing games that were not played and converting the list of dictionaries to a DataFrame.\n",
    "regular_season = pd.DataFrame(df).loc[pd.DataFrame(df)['current_period'] != 0] "
   ]
  },
  {
   "cell_type": "code",
   "execution_count": 4,
   "metadata": {},
   "outputs": [],
   "source": [
    "# Pulling data about the playoffs from 2000-2023\n",
    "df = []\n",
    "for year in years:\n",
    "    for game in range(1, 425):\n",
    "        year = year\n",
    "        game = f\"{game:04d}\"\n",
    "\n",
    "        url = f'https://statsapi.web.nhl.com/api/v1/game/{year}03{game}/feed/live'\n",
    "\n",
    "        # Sometimes the connection will timeout. This is to avoid breaking the loop.\n",
    "        for i in range(1, 11):\n",
    "            try:\n",
    "                response = requests.get(url)\n",
    "                break\n",
    "            except:\n",
    "                print('Wating for game ' + str(game) + ' of season ' + str(year) + '.')\n",
    "                time.sleep(10)\n",
    "\n",
    "        # The playoff game id's are a bit weird so the if statment is to keep the loop from breaking if a game id does not exist\n",
    "        if response.status_code == 200:\n",
    "\n",
    "            linescore = response.json()['liveData']['linescore']\n",
    "            home_team = linescore['teams']['home']\n",
    "            away_team = linescore['teams']['away']\n",
    "\n",
    "            # Appending information about the game and stats about the home and away teams to an empty list.    \n",
    "            df.append({\n",
    "                'gameID' : f'{year}03{game}',\n",
    "                'season' : year,\n",
    "                'date' : response.json()['gameData']['datetime']['dateTime'][0:10],\n",
    "                'round' : game[1],\n",
    "                'game' : game[-1],\n",
    "                'current_period' : linescore['currentPeriod'],\n",
    "\n",
    "                'home' : home_team['team']['name'],\n",
    "                'away' : away_team['team']['name'],\n",
    "\n",
    "                'home_goals' : home_team['goals'],\n",
    "                'away_goals' : home_team['goals'],\n",
    "\n",
    "                'home_shots' : home_team['shotsOnGoal'],\n",
    "                'away_shots' : away_team['shotsOnGoal']\n",
    "            })\n",
    "\n",
    "# Removing games that were not played and converting the list of dictionaries to a DataFrame.\n",
    "playoffs = pd.DataFrame(df).loc[pd.DataFrame(df)['current_period'] != 0]"
   ]
  },
  {
   "cell_type": "code",
   "execution_count": 5,
   "metadata": {},
   "outputs": [],
   "source": [
    "# regular_season.to_csv('../data/regular_season.csv', index = False)\n",
    "# playoffs.to_csv('../data/playoffs.csv', index = False)"
   ]
  }
 ],
 "metadata": {
  "kernelspec": {
   "display_name": "base",
   "language": "python",
   "name": "python3"
  },
  "language_info": {
   "codemirror_mode": {
    "name": "ipython",
    "version": 3
   },
   "file_extension": ".py",
   "mimetype": "text/x-python",
   "name": "python",
   "nbconvert_exporter": "python",
   "pygments_lexer": "ipython3",
   "version": "3.9.16"
  },
  "orig_nbformat": 4
 },
 "nbformat": 4,
 "nbformat_minor": 2
}
